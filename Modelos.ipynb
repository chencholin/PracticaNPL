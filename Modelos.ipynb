{
 "cells": [
  {
   "cell_type": "markdown",
   "id": "96fbf6c8-03e9-48a3-b32c-850f735682d0",
   "metadata": {
    "tags": []
   },
   "source": [
    "# Justificacion:\n",
    "\n",
    "### 1º Modelo\n",
    "\n",
    "En el primer modelo He utilizado una regresion n logística con diferentes valores del parámetro de regularización C.Este modelo utiliza una lista de valores de C predefinidos, c_params, y un modelo de regresión logística con el algoritmo de optimización lbfgs. El conjunto de entrenamiento y el conjunto de prueba se utilizan para ajustar y evaluar el modelo.\n",
    "\n",
    "Para cada valor de C en la lista de parámetros c_params, se ajusta un modelo de regresión logística y se evalúa su precisión en el conjunto de prueba y el conjunto de entrenamiento. La precisión se mide con la función accuracy_score del paquete sklearn.metrics.\n",
    "\n",
    "podemos utilizar  este modelo para seleccionar el valor óptimo del parámetro de regularización C que resulte en el mejor desempeño del modelo en el conjunto de prueba y evitar el sobreajuste en el modelo\n",
    "\n",
    "### 2 Modelo\n",
    "\n",
    "\n",
    "En el modelo utiliza una capa de Embedding para representar cada palabra en una reseña amazon como un vector denso de números reales, seguido de una capa GRU para capturar las relaciones entre las palabras en una secuencia. La capa GRU está seguida por una capa densa con una función de activación sigmoide para producir una salida de clasificación binaria. El modelo se compila con la función de pérdida de entropía cruzada binaria y se entrena con el algoritmo de optimización Adam. Finalmente, el modelo se evalúa en el conjunto de prueba para evaluar su rendimiento en términos de precisión y pérdida.\n"
   ]
  },
  {
   "cell_type": "code",
   "execution_count": 1,
   "id": "83af6003-3115-4477-ae67-3fa9b6ba43aa",
   "metadata": {},
   "outputs": [
    {
     "name": "stdout",
     "output_type": "stream",
     "text": [
      "<class 'pandas.core.frame.DataFrame'>\n",
      "RangeIndex: 98891 entries, 0 to 98890\n",
      "Data columns (total 4 columns):\n",
      " #   Column            Non-Null Count  Dtype \n",
      "---  ------            --------------  ----- \n",
      " 0   sentiment         98891 non-null  int64 \n",
      " 1   review            98880 non-null  object\n",
      " 2   sentiment_label   98891 non-null  int64 \n",
      " 3   review_procesada  98880 non-null  object\n",
      "dtypes: int64(2), object(2)\n",
      "memory usage: 3.0+ MB\n"
     ]
    }
   ],
   "source": [
    "\n",
    "\n",
    "import json\n",
    "import pandas as pd\n",
    "import random\n",
    "import numpy as np\n",
    "import pandas as pd\n",
    "\n",
    "from sklearn.model_selection import train_test_split\n",
    "from sklearn.pipeline import Pipeline\n",
    "from sklearn.feature_extraction.text import CountVectorizer, TfidfVectorizer\n",
    "from sklearn.feature_selection import chi2\n",
    "from sklearn.linear_model import LogisticRegression\n",
    "from sklearn.metrics import accuracy_score, confusion_matrix, classification_report, roc_curve, precision_recall_curve\n",
    "\n",
    "import matplotlib.pyplot as plt\n",
    "df = pd.read_csv(\"df_limpio_procesado.csv\",index_col=None)\n",
    "df = df.drop('Unnamed: 0', axis=1)\n",
    "df.info()\n"
   ]
  },
  {
   "cell_type": "code",
   "execution_count": 2,
   "id": "48b8abec-7785-4508-ac93-9dc35206bead",
   "metadata": {
    "tags": []
   },
   "outputs": [
    {
     "data": {
      "text/html": [
       "<div>\n",
       "<style scoped>\n",
       "    .dataframe tbody tr th:only-of-type {\n",
       "        vertical-align: middle;\n",
       "    }\n",
       "\n",
       "    .dataframe tbody tr th {\n",
       "        vertical-align: top;\n",
       "    }\n",
       "\n",
       "    .dataframe thead th {\n",
       "        text-align: right;\n",
       "    }\n",
       "</style>\n",
       "<table border=\"1\" class=\"dataframe\">\n",
       "  <thead>\n",
       "    <tr style=\"text-align: right;\">\n",
       "      <th></th>\n",
       "      <th>sentiment</th>\n",
       "      <th>review</th>\n",
       "      <th>sentiment_label</th>\n",
       "      <th>review_procesada</th>\n",
       "    </tr>\n",
       "  </thead>\n",
       "  <tbody>\n",
       "    <tr>\n",
       "      <th>0</th>\n",
       "      <td>4</td>\n",
       "      <td>Online version easier to use in my opinion. St...</td>\n",
       "      <td>0</td>\n",
       "      <td>online version easier use still good misc form...</td>\n",
       "    </tr>\n",
       "    <tr>\n",
       "      <th>1</th>\n",
       "      <td>4</td>\n",
       "      <td>everything was as advertised and performed as ...</td>\n",
       "      <td>0</td>\n",
       "      <td>everything advertised performed</td>\n",
       "    </tr>\n",
       "    <tr>\n",
       "      <th>2</th>\n",
       "      <td>1</td>\n",
       "      <td>I first purchased a Garmin Nuvi 650 GPS near t...</td>\n",
       "      <td>1</td>\n",
       "      <td>first purchased garmin nuvi gps near end error...</td>\n",
       "    </tr>\n",
       "    <tr>\n",
       "      <th>3</th>\n",
       "      <td>5</td>\n",
       "      <td>I bought this for my daughters (2nd and 3rd gr...</td>\n",
       "      <td>0</td>\n",
       "      <td>bought daughters love complete computer module...</td>\n",
       "    </tr>\n",
       "    <tr>\n",
       "      <th>4</th>\n",
       "      <td>5</td>\n",
       "      <td>excellent product</td>\n",
       "      <td>0</td>\n",
       "      <td>excellent product</td>\n",
       "    </tr>\n",
       "  </tbody>\n",
       "</table>\n",
       "</div>"
      ],
      "text/plain": [
       "   sentiment                                             review  \\\n",
       "0          4  Online version easier to use in my opinion. St...   \n",
       "1          4  everything was as advertised and performed as ...   \n",
       "2          1  I first purchased a Garmin Nuvi 650 GPS near t...   \n",
       "3          5  I bought this for my daughters (2nd and 3rd gr...   \n",
       "4          5                                  excellent product   \n",
       "\n",
       "   sentiment_label                                   review_procesada  \n",
       "0                0  online version easier use still good misc form...  \n",
       "1                0                    everything advertised performed  \n",
       "2                1  first purchased garmin nuvi gps near end error...  \n",
       "3                0  bought daughters love complete computer module...  \n",
       "4                0                                  excellent product  "
      ]
     },
     "execution_count": 2,
     "metadata": {},
     "output_type": "execute_result"
    }
   ],
   "source": [
    "df.head()"
   ]
  },
  {
   "cell_type": "code",
   "execution_count": 3,
   "id": "5c3af01a-020a-4f69-8f3c-738ffa5d601f",
   "metadata": {
    "tags": []
   },
   "outputs": [],
   "source": [
    "def label_sentiment(row):\n",
    "    if int(row['sentiment']) < 3:\n",
    "        return 1\n",
    "    else:\n",
    "        return 0\n",
    "df['sentiment_label'] = df.apply(lambda row: label_sentiment(row), axis=1)\n"
   ]
  },
  {
   "cell_type": "code",
   "execution_count": 4,
   "id": "36529bfc-72df-4d80-b2fc-3657ee28baae",
   "metadata": {
    "tags": []
   },
   "outputs": [
    {
     "data": {
      "text/html": [
       "<div>\n",
       "<style scoped>\n",
       "    .dataframe tbody tr th:only-of-type {\n",
       "        vertical-align: middle;\n",
       "    }\n",
       "\n",
       "    .dataframe tbody tr th {\n",
       "        vertical-align: top;\n",
       "    }\n",
       "\n",
       "    .dataframe thead th {\n",
       "        text-align: right;\n",
       "    }\n",
       "</style>\n",
       "<table border=\"1\" class=\"dataframe\">\n",
       "  <thead>\n",
       "    <tr style=\"text-align: right;\">\n",
       "      <th></th>\n",
       "      <th>sentiment</th>\n",
       "      <th>review</th>\n",
       "      <th>sentiment_label</th>\n",
       "      <th>review_procesada</th>\n",
       "    </tr>\n",
       "  </thead>\n",
       "  <tbody>\n",
       "    <tr>\n",
       "      <th>0</th>\n",
       "      <td>4</td>\n",
       "      <td>Online version easier to use in my opinion. St...</td>\n",
       "      <td>0</td>\n",
       "      <td>online version easier use still good misc form...</td>\n",
       "    </tr>\n",
       "    <tr>\n",
       "      <th>1</th>\n",
       "      <td>4</td>\n",
       "      <td>everything was as advertised and performed as ...</td>\n",
       "      <td>0</td>\n",
       "      <td>everything advertised performed</td>\n",
       "    </tr>\n",
       "    <tr>\n",
       "      <th>2</th>\n",
       "      <td>1</td>\n",
       "      <td>I first purchased a Garmin Nuvi 650 GPS near t...</td>\n",
       "      <td>1</td>\n",
       "      <td>first purchased garmin nuvi gps near end error...</td>\n",
       "    </tr>\n",
       "    <tr>\n",
       "      <th>3</th>\n",
       "      <td>5</td>\n",
       "      <td>I bought this for my daughters (2nd and 3rd gr...</td>\n",
       "      <td>0</td>\n",
       "      <td>bought daughters love complete computer module...</td>\n",
       "    </tr>\n",
       "    <tr>\n",
       "      <th>4</th>\n",
       "      <td>5</td>\n",
       "      <td>excellent product</td>\n",
       "      <td>0</td>\n",
       "      <td>excellent product</td>\n",
       "    </tr>\n",
       "  </tbody>\n",
       "</table>\n",
       "</div>"
      ],
      "text/plain": [
       "   sentiment                                             review  \\\n",
       "0          4  Online version easier to use in my opinion. St...   \n",
       "1          4  everything was as advertised and performed as ...   \n",
       "2          1  I first purchased a Garmin Nuvi 650 GPS near t...   \n",
       "3          5  I bought this for my daughters (2nd and 3rd gr...   \n",
       "4          5                                  excellent product   \n",
       "\n",
       "   sentiment_label                                   review_procesada  \n",
       "0                0  online version easier use still good misc form...  \n",
       "1                0                    everything advertised performed  \n",
       "2                1  first purchased garmin nuvi gps near end error...  \n",
       "3                0  bought daughters love complete computer module...  \n",
       "4                0                                  excellent product  "
      ]
     },
     "execution_count": 4,
     "metadata": {},
     "output_type": "execute_result"
    }
   ],
   "source": [
    "df.dropna(inplace=True)\n",
    "df.head()"
   ]
  },
  {
   "cell_type": "markdown",
   "id": "feaa3ac9-e421-42f8-9db7-87558fb63775",
   "metadata": {
    "tags": []
   },
   "source": [
    "# 1º Modelo Regresion Lineal"
   ]
  },
  {
   "cell_type": "markdown",
   "id": "51760d62-6c2e-4840-bc0b-993d7c21f01f",
   "metadata": {},
   "source": [
    "### MODELADO"
   ]
  },
  {
   "cell_type": "code",
   "execution_count": 5,
   "id": "c0353ea0-ce1b-4895-923a-dbfc29b4120e",
   "metadata": {
    "tags": []
   },
   "outputs": [],
   "source": [
    "X_train, X_test, y_train, y_test = train_test_split(\n",
    "    df['review_procesada'],\n",
    "    df['sentiment_label'],\n",
    "    train_size=0.75,\n",
    "    test_size=0.25,\n",
    "    random_state=42,\n",
    "    shuffle=True\n",
    ")"
   ]
  },
  {
   "cell_type": "code",
   "execution_count": 15,
   "id": "e6b9a37f-6f2d-466e-bb39-2c2d9c71bc25",
   "metadata": {
    "tags": []
   },
   "outputs": [
    {
     "data": {
      "text/plain": [
       "87430    check item pay know market use unable download...\n",
       "4609     game combines insane graphics extreme speeds b...\n",
       "32014    overall games good help children learn little ...\n",
       "20134    using forever probably continue nothing perfec...\n",
       "52606    excellent software excellent establishing mana...\n",
       "43886    used trend many satisfied trend aware use late...\n",
       "83491    app allowed read many books excess last year g...\n",
       "6341     reading reviews wacom tablets saw someone ment...\n",
       "8358     issues previous antivirus software great one w...\n",
       "36711                   best free antivirus paid antivirus\n",
       "Name: review_procesada, dtype: object"
      ]
     },
     "execution_count": 15,
     "metadata": {},
     "output_type": "execute_result"
    }
   ],
   "source": [
    "X_train.iloc[:10]"
   ]
  },
  {
   "cell_type": "code",
   "execution_count": 16,
   "id": "3aecf3ea-a011-4087-b131-c1d16d1ae469",
   "metadata": {
    "tags": []
   },
   "outputs": [
    {
     "data": {
      "text/plain": [
       "87430    1\n",
       "4609     0\n",
       "32014    1\n",
       "20134    0\n",
       "52606    0\n",
       "43886    0\n",
       "83491    0\n",
       "6341     0\n",
       "8358     0\n",
       "36711    0\n",
       "Name: sentiment_label, dtype: int64"
      ]
     },
     "execution_count": 16,
     "metadata": {},
     "output_type": "execute_result"
    }
   ],
   "source": [
    "y_train.iloc[:10]"
   ]
  },
  {
   "cell_type": "code",
   "execution_count": null,
   "id": "0ad2bd92-9b89-418a-be5d-0e02fc0a3085",
   "metadata": {
    "tags": []
   },
   "outputs": [],
   "source": []
  },
  {
   "cell_type": "markdown",
   "id": "f240035e-c602-4b40-b2d0-b5639812a0a8",
   "metadata": {},
   "source": [
    "# Extracción de features"
   ]
  },
  {
   "cell_type": "code",
   "execution_count": 67,
   "id": "3aac9388-667a-45a6-9f23-e5555fda5ca2",
   "metadata": {
    "tags": []
   },
   "outputs": [
    {
     "data": {
      "text/html": [
       "<style>#sk-container-id-5 {color: black;background-color: white;}#sk-container-id-5 pre{padding: 0;}#sk-container-id-5 div.sk-toggleable {background-color: white;}#sk-container-id-5 label.sk-toggleable__label {cursor: pointer;display: block;width: 100%;margin-bottom: 0;padding: 0.3em;box-sizing: border-box;text-align: center;}#sk-container-id-5 label.sk-toggleable__label-arrow:before {content: \"▸\";float: left;margin-right: 0.25em;color: #696969;}#sk-container-id-5 label.sk-toggleable__label-arrow:hover:before {color: black;}#sk-container-id-5 div.sk-estimator:hover label.sk-toggleable__label-arrow:before {color: black;}#sk-container-id-5 div.sk-toggleable__content {max-height: 0;max-width: 0;overflow: hidden;text-align: left;background-color: #f0f8ff;}#sk-container-id-5 div.sk-toggleable__content pre {margin: 0.2em;color: black;border-radius: 0.25em;background-color: #f0f8ff;}#sk-container-id-5 input.sk-toggleable__control:checked~div.sk-toggleable__content {max-height: 200px;max-width: 100%;overflow: auto;}#sk-container-id-5 input.sk-toggleable__control:checked~label.sk-toggleable__label-arrow:before {content: \"▾\";}#sk-container-id-5 div.sk-estimator input.sk-toggleable__control:checked~label.sk-toggleable__label {background-color: #d4ebff;}#sk-container-id-5 div.sk-label input.sk-toggleable__control:checked~label.sk-toggleable__label {background-color: #d4ebff;}#sk-container-id-5 input.sk-hidden--visually {border: 0;clip: rect(1px 1px 1px 1px);clip: rect(1px, 1px, 1px, 1px);height: 1px;margin: -1px;overflow: hidden;padding: 0;position: absolute;width: 1px;}#sk-container-id-5 div.sk-estimator {font-family: monospace;background-color: #f0f8ff;border: 1px dotted black;border-radius: 0.25em;box-sizing: border-box;margin-bottom: 0.5em;}#sk-container-id-5 div.sk-estimator:hover {background-color: #d4ebff;}#sk-container-id-5 div.sk-parallel-item::after {content: \"\";width: 100%;border-bottom: 1px solid gray;flex-grow: 1;}#sk-container-id-5 div.sk-label:hover label.sk-toggleable__label {background-color: #d4ebff;}#sk-container-id-5 div.sk-serial::before {content: \"\";position: absolute;border-left: 1px solid gray;box-sizing: border-box;top: 0;bottom: 0;left: 50%;z-index: 0;}#sk-container-id-5 div.sk-serial {display: flex;flex-direction: column;align-items: center;background-color: white;padding-right: 0.2em;padding-left: 0.2em;position: relative;}#sk-container-id-5 div.sk-item {position: relative;z-index: 1;}#sk-container-id-5 div.sk-parallel {display: flex;align-items: stretch;justify-content: center;background-color: white;position: relative;}#sk-container-id-5 div.sk-item::before, #sk-container-id-5 div.sk-parallel-item::before {content: \"\";position: absolute;border-left: 1px solid gray;box-sizing: border-box;top: 0;bottom: 0;left: 50%;z-index: -1;}#sk-container-id-5 div.sk-parallel-item {display: flex;flex-direction: column;z-index: 1;position: relative;background-color: white;}#sk-container-id-5 div.sk-parallel-item:first-child::after {align-self: flex-end;width: 50%;}#sk-container-id-5 div.sk-parallel-item:last-child::after {align-self: flex-start;width: 50%;}#sk-container-id-5 div.sk-parallel-item:only-child::after {width: 0;}#sk-container-id-5 div.sk-dashed-wrapped {border: 1px dashed gray;margin: 0 0.4em 0.5em 0.4em;box-sizing: border-box;padding-bottom: 0.4em;background-color: white;}#sk-container-id-5 div.sk-label label {font-family: monospace;font-weight: bold;display: inline-block;line-height: 1.2em;}#sk-container-id-5 div.sk-label-container {text-align: center;}#sk-container-id-5 div.sk-container {/* jupyter's `normalize.less` sets `[hidden] { display: none; }` but bootstrap.min.css set `[hidden] { display: none !important; }` so we also need the `!important` here to be able to override the default hidden behavior on the sphinx rendered scikit-learn.org. See: https://github.com/scikit-learn/scikit-learn/issues/21755 */display: inline-block !important;position: relative;}#sk-container-id-5 div.sk-text-repr-fallback {display: none;}</style><div id=\"sk-container-id-5\" class=\"sk-top-container\"><div class=\"sk-text-repr-fallback\"><pre>TfidfVectorizer(max_df=0.95, max_features=5000, min_df=3, strip_accents=&#x27;ascii&#x27;)</pre><b>In a Jupyter environment, please rerun this cell to show the HTML representation or trust the notebook. <br />On GitHub, the HTML representation is unable to render, please try loading this page with nbviewer.org.</b></div><div class=\"sk-container\" hidden><div class=\"sk-item\"><div class=\"sk-estimator sk-toggleable\"><input class=\"sk-toggleable__control sk-hidden--visually\" id=\"sk-estimator-id-5\" type=\"checkbox\" checked><label for=\"sk-estimator-id-5\" class=\"sk-toggleable__label sk-toggleable__label-arrow\">TfidfVectorizer</label><div class=\"sk-toggleable__content\"><pre>TfidfVectorizer(max_df=0.95, max_features=5000, min_df=3, strip_accents=&#x27;ascii&#x27;)</pre></div></div></div></div></div>"
      ],
      "text/plain": [
       "TfidfVectorizer(max_df=0.95, max_features=5000, min_df=3, strip_accents='ascii')"
      ]
     },
     "execution_count": 67,
     "metadata": {},
     "output_type": "execute_result"
    }
   ],
   "source": [
    "cv = TfidfVectorizer(\n",
    "    max_df=0.95,\n",
    "    min_df=3,\n",
    "    max_features=5000,\n",
    "    strip_accents='ascii',\n",
    "    ngram_range=(1, 1)\n",
    ")\n",
    "cv.fit(X_train)"
   ]
  },
  {
   "cell_type": "code",
   "execution_count": 68,
   "id": "60f7cb98-474b-4907-a917-17bb9468ca3c",
   "metadata": {
    "tags": []
   },
   "outputs": [
    {
     "name": "stdout",
     "output_type": "stream",
     "text": [
      "[('check', 655), ('item', 2299), ('pay', 3097), ('know', 2364), ('market', 2629), ('use', 4733), ('unable', 4661), ('download', 1255), ('cause', 605), ('app', 202), ('supported', 4342), ('latest', 2403), ('apple', 212), ('time', 4512), ('game', 1803), ('insane', 2197), ('graphics', 1894), ('extreme', 1551), ('speeds', 4160), ('fits', 1682)]\n"
     ]
    }
   ],
   "source": [
    "print(list(cv.vocabulary_.items())[:20])"
   ]
  },
  {
   "cell_type": "markdown",
   "id": "84fa1034-9590-44f6-99d1-7b60653ceb29",
   "metadata": {},
   "source": [
    "## TF-IDF scores del training set y test set"
   ]
  },
  {
   "cell_type": "code",
   "execution_count": 69,
   "id": "497f8901-b5e6-4a3c-9536-61fb43f0fcec",
   "metadata": {
    "tags": []
   },
   "outputs": [],
   "source": [
    "X_train_ = cv.transform(X_train)\n",
    "X_test_ = cv.transform(X_test)"
   ]
  },
  {
   "cell_type": "markdown",
   "id": "f75af79e-c85d-4539-b14f-d2d3bc4c40ea",
   "metadata": {},
   "source": [
    "## Palabras con el TF-IDF en alguna review"
   ]
  },
  {
   "cell_type": "code",
   "execution_count": 90,
   "id": "d2ef6ccb-ad2e-4b6a-85cb-fda0dca9b0a5",
   "metadata": {
    "tags": []
   },
   "outputs": [
    {
     "name": "stdout",
     "output_type": "stream",
     "text": [
      "ID: 55354\n",
      "Sentiment: 0\n",
      "Review: actually prefer online version bit better offline sometimes interface gets confusing great synced\n"
     ]
    }
   ],
   "source": [
    "i = random.randint(0, len(X_train))\n",
    "print('ID: {}'.format(i))\n",
    "print('Sentiment: {}'.format(y_train.iloc[i]))\n",
    "print('Review: {}'.format(X_train.iloc[i]))"
   ]
  },
  {
   "cell_type": "code",
   "execution_count": 91,
   "id": "ba2cdf41-fc30-4de4-97f2-238e76fd8be1",
   "metadata": {
    "tags": []
   },
   "outputs": [
    {
     "name": "stdout",
     "output_type": "stream",
     "text": [
      "Top 10 words with highest TF_IDF in the review 55354:\n",
      "              tfidf\n",
      "synced     0.422171\n",
      "offline    0.420334\n",
      "confusing  0.321537\n",
      "prefer     0.300811\n",
      "sometimes  0.274163\n",
      "gets       0.270017\n",
      "interface  0.243827\n",
      "actually   0.232266\n",
      "bit        0.231594\n",
      "online     0.224130\n",
      "\n",
      "Top 10 words with lowest TF_IDF in the review 55354:\n",
      "              tfidf\n",
      "prefer     0.300811\n",
      "sometimes  0.274163\n",
      "gets       0.270017\n",
      "interface  0.243827\n",
      "actually   0.232266\n",
      "bit        0.231594\n",
      "online     0.224130\n",
      "better     0.190183\n",
      "version    0.160911\n",
      "great      0.154310\n"
     ]
    }
   ],
   "source": [
    "doc_vector = X_train_[i]\n",
    "df_tfidf = pd.DataFrame(doc_vector.T.todense(), index=cv.get_feature_names_out(), columns=['tfidf'])\n",
    "df_tfidf = df_tfidf[df_tfidf['tfidf'] > 0]\n",
    "\n",
    "top_n = 10\n",
    "print('Top {} words with highest TF_IDF in the review {}:\\n{}'.format(top_n, i, df_tfidf.sort_values(by=[\"tfidf\"],ascending=False)[:top_n]))\n",
    "print('\\nTop {} words with lowest TF_IDF in the review {}:\\n{}'.format(top_n, i, df_tfidf.sort_values(by=[\"tfidf\"],ascending=False)[-top_n:]))"
   ]
  },
  {
   "cell_type": "markdown",
   "id": "0d5f3ba5-2938-411a-a1bb-c9bb38f22d06",
   "metadata": {},
   "source": [
    "## $\\chi²$ scores"
   ]
  },
  {
   "cell_type": "code",
   "execution_count": 72,
   "id": "56f55a73-bd04-4c9a-8f73-9543cd139836",
   "metadata": {
    "tags": []
   },
   "outputs": [
    {
     "data": {
      "image/png": "[encoded data removed]",
      "text/plain": [
       "<Figure size 1200x800 with 1 Axes>"
      ]
     },
     "metadata": {},
     "output_type": "display_data"
    }
   ],
   "source": [
    "# Compute the chi-squared score for each word in the training set and show the values\n",
    "i = 15\n",
    "\n",
    "chi2score = chi2(X_train_, y_train)[0]\n",
    "scores = list(zip(cv.get_feature_names_out(), chi2score))\n",
    "sorted_scores = sorted(scores, key=lambda x:x[1])\n",
    "topchi2 = list(zip(*sorted_scores[-i:]))\n",
    "x = range(len(topchi2[1]))\n",
    "labels = topchi2[0]\n",
    "\n",
    "plt.figure(figsize=(12, 8))\n",
    "plt.barh(x,topchi2[1], align='center', alpha=0.5)\n",
    "plt.plot(topchi2[1], x, '-o', markersize=5, alpha=0.8)\n",
    "plt.yticks(x, labels, fontsize=12)\n",
    "plt.xlabel('$\\chi^2$', fontsize=26)\n",
    "plt.ylabel('word', fontsize=16)\n",
    "plt.title('Top {} $\\chi^2$ score for each word in the training set'.format(i), fontsize=20)\n",
    "plt.grid()\n",
    "plt.tight_layout()\n",
    "plt.show();"
   ]
  },
  {
   "cell_type": "markdown",
   "id": "5832db17-4f55-4cd8-9fc7-a0073ac3d52b",
   "metadata": {},
   "source": []
  },
  {
   "cell_type": "code",
   "execution_count": 84,
   "id": "11252e70-4772-4e59-a891-965100750cbd",
   "metadata": {
    "tags": []
   },
   "outputs": [
    {
     "name": "stdout",
     "output_type": "stream",
     "text": [
      "Accuracy for C=0.01: 0.7502831715210356\n",
      "Accuracy for C=0.05: 0.8279126213592233\n",
      "Accuracy for C=0.25: 0.8574029126213593\n",
      "Accuracy for C=0.5: 0.8618527508090615\n",
      "Accuracy for C=1: 0.8648058252427184\n",
      "Accuracy for C=10: 0.8617313915857605\n"
     ]
    }
   ],
   "source": [
    "c_params = [0.01, 0.05, 0.25, 0.5, 1, 10]\n",
    "\n",
    "train_acc = list()\n",
    "test_acc = list()\n",
    "for c in c_params:\n",
    "    lr = LogisticRegression(C=c, solver='lbfgs', max_iter=400)\n",
    "    lr.fit(X_train_, y_train)\n",
    "    \n",
    "    train_predict = lr.predict(X_train_)\n",
    "    test_predict = lr.predict(X_test_)\n",
    "    \n",
    "    print (\"Accuracy for C={}: {}\".format(c, accuracy_score(y_test, test_predict)))\n",
    "    \n",
    "    train_acc.append(accuracy_score(y_train, train_predict))\n",
    "    test_acc.append(accuracy_score(y_test, test_predict))"
   ]
  },
  {
   "cell_type": "markdown",
   "id": "9bf9a250-d9d7-4892-9df9-1c267278a17c",
   "metadata": {},
   "source": [
    "# Metricas"
   ]
  },
  {
   "cell_type": "code",
   "execution_count": 85,
   "id": "37a7d7c1-0acc-495d-a9cb-7bdf6bc28bac",
   "metadata": {
    "tags": []
   },
   "outputs": [
    {
     "name": "stdout",
     "output_type": "stream",
     "text": [
      "Confussion matrix:\n",
      "[[16088  1429]\n",
      " [ 1989  5214]]\n",
      "\n",
      "Classification report:\n",
      "              precision    recall  f1-score   support\n",
      "\n",
      "           0       0.89      0.92      0.90     17517\n",
      "           1       0.78      0.72      0.75      7203\n",
      "\n",
      "    accuracy                           0.86     24720\n",
      "   macro avg       0.84      0.82      0.83     24720\n",
      "weighted avg       0.86      0.86      0.86     24720\n",
      "\n",
      "Accuracy score:0.8617313915857605\n"
     ]
    }
   ],
   "source": [
    "print('Confussion matrix:\\n{}'.format(confusion_matrix(y_test, test_predict)))\n",
    "print('\\nClassification report:\\n{}'.format(classification_report(y_test, test_predict)))\n",
    "print('Accuracy score:{}'.format(accuracy_score(y_test, test_predict)))"
   ]
  },
  {
   "cell_type": "code",
   "execution_count": 86,
   "id": "e66b8113-8b0b-4340-ac78-2c6e5fa4e349",
   "metadata": {
    "tags": []
   },
   "outputs": [
    {
     "data": {
      "image/png": "[encoded data removed]",
      "text/plain": [
       "<Figure size 1200x800 with 1 Axes>"
      ]
     },
     "metadata": {},
     "output_type": "display_data"
    }
   ],
   "source": [
    "plt.figure(figsize=(12, 8))\n",
    "plt.plot(train_acc, label='train')\n",
    "plt.plot(test_acc, label='test')\n",
    "plt.axvline(np.argmax(test_acc), c='g', ls='--', alpha=0.8)\n",
    "plt.title('Accuracy evolution for different C values')\n",
    "plt.xlabel('C')\n",
    "plt.ylabel('Accuracy')\n",
    "plt.legend()\n",
    "plt.grid()\n",
    "plt.xticks(list(range(len(c_params))), c_params)\n",
    "plt.tight_layout()\n",
    "plt.show()"
   ]
  },
  {
   "cell_type": "code",
   "execution_count": null,
   "id": "77778b37-40f4-425c-b6cf-9d9618a15994",
   "metadata": {},
   "outputs": [],
   "source": [
    "# valor de c ideal 0=\"1\""
   ]
  },
  {
   "cell_type": "markdown",
   "id": "d89d1186-2df2-462e-b065-ff7c9fbfe110",
   "metadata": {},
   "source": [
    "# Prediccion"
   ]
  },
  {
   "cell_type": "code",
   "execution_count": 87,
   "id": "8dae70ba-7e94-4498-9229-95b1ac80efbc",
   "metadata": {
    "tags": []
   },
   "outputs": [],
   "source": [
    "def predict_review_sentiment(review_index, model):\n",
    "    print('Actual sentiment: {}'.format(df.iloc[review_index]['sentiment_label']))\n",
    "    r = df.iloc[review_index]['review']\n",
    "    print('Prediction: {}'.format(lr.predict(cv.transform([r]))))"
   ]
  },
  {
   "cell_type": "code",
   "execution_count": 88,
   "id": "2d0dd000-0469-4a96-aead-8198cdae4143",
   "metadata": {
    "tags": []
   },
   "outputs": [
    {
     "name": "stdout",
     "output_type": "stream",
     "text": [
      "\n",
      "Review no. 23989\n",
      "Actual sentiment: 1\n",
      "Prediction: [1]\n",
      "\n",
      "Review no. 82102\n",
      "Actual sentiment: 0\n",
      "Prediction: [0]\n",
      "\n",
      "Review no. 34841\n",
      "Actual sentiment: 1\n",
      "Prediction: [1]\n",
      "\n",
      "Review no. 65668\n",
      "Actual sentiment: 0\n",
      "Prediction: [0]\n",
      "\n",
      "Review no. 28777\n",
      "Actual sentiment: 0\n",
      "Prediction: [0]\n",
      "\n",
      "Review no. 73915\n",
      "Actual sentiment: 0\n",
      "Prediction: [0]\n",
      "\n",
      "Review no. 90975\n",
      "Actual sentiment: 0\n",
      "Prediction: [0]\n",
      "\n",
      "Review no. 75724\n",
      "Actual sentiment: 0\n",
      "Prediction: [0]\n",
      "\n",
      "Review no. 30000\n",
      "Actual sentiment: 1\n",
      "Prediction: [1]\n",
      "\n",
      "Review no. 94588\n",
      "Actual sentiment: 1\n",
      "Prediction: [1]\n"
     ]
    }
   ],
   "source": [
    "for i in random.sample(range(0, len(df)), 10):\n",
    "    print('\\nReview no. {}'.format(i))\n",
    "    predict_review_sentiment(i, lr)"
   ]
  },
  {
   "cell_type": "markdown",
   "id": "169d53e4-098c-46e1-8d5b-77c2f0d92dae",
   "metadata": {
    "tags": []
   },
   "source": [
    "### Prediccion hecha sobre una rewiev cogida de amazon con una estrella."
   ]
  },
  {
   "cell_type": "code",
   "execution_count": 57,
   "id": "5dc78e1d-beb6-4eee-9fe9-e7a0a81257e5",
   "metadata": {},
   "outputs": [],
   "source": [
    "rewiev_amazon=\"Beware of tech support and bad or missing files I got the new TurboTax program as a download and it came over easy. I had the 2021 program and it was great. This time I tried to install it 4 times – I even deleted it, then tried aagain but still no luck. Error message was: (File’_ssc.rabgrp_nommoc_lacol_tib23_rgnerepw) cannot be found times in Data1.cab I went to Intuit site found tech support and chatted with a picture and a name (who knows if they are who they say they are). I gave them details including the error message. They said they would connect me to a technician BUT THERE WOULD BE A $1 CHARGE. LIKE A FOOL I DID IT.The technician said he was a third-party contractor. He had a nice picture and his name was Gupta. He said he had 4 years’ experience. I told him I had 17 years as tech support in a multiple school districts. He said I would need to give him REMOTE ACCESS to my computer – FOR $39.00. I said NO – years ago my colleague got identity stolen that way. There was many 10 – 15-minute pauses while he looked in his instruction book or talked to someone else. He did not seem very experienced except for reading prompts from their book.Then 50 minutes in he asked me to describe the problem. I reminded him that I had done that in detail 50 minutes ago. It was obvious that the error message indicates a corrupt or missing file. This is not something these “Technicians” can handle with their books. I told him what I needed was to send me a clean download that was not corrupted, or a patch. No response. I chatted several more minutes and said I would report this, and said good bye. Later I did get a message to call another number if I still needed help. I will try to go straight to INTUIT and Amazon. I did request several times to return my $1.00 since they were no help. Wish me luck!Sometimes a site or vendor may send out corrupted programs to drum up support money or gain access. If you have had this same problem contact Amazon.\"\n"
   ]
  },
  {
   "cell_type": "code",
   "execution_count": 95,
   "id": "b0f96b8d-33a1-4bce-8be5-4cbcc7c68521",
   "metadata": {},
   "outputs": [
    {
     "name": "stdout",
     "output_type": "stream",
     "text": [
      "[1]\n"
     ]
    }
   ],
   "source": [
    "print(lr.predict(cv.transform([rewiev_amazon])))"
   ]
  },
  {
   "cell_type": "markdown",
   "id": "9e51913c-b170-446a-95a5-1592657a412e",
   "metadata": {},
   "source": []
  },
  {
   "cell_type": "code",
   "execution_count": 7,
   "id": "46848eec-3bd7-4dae-952c-1619a4a62e26",
   "metadata": {
    "tags": []
   },
   "outputs": [],
   "source": [
    "import gensim\n",
    "import multiprocessing as mp\n",
    "\n",
    "from tensorflow.keras.preprocessing.text import Tokenizer\n",
    "from tensorflow.keras.preprocessing.sequence import pad_sequences\n",
    "from tensorflow.keras.models import Sequential\n",
    "from tensorflow.keras.layers import (\n",
    "    Dense,\n",
    "    Dropout,\n",
    "    Embedding,\n",
    "    LSTM,\n",
    ")\n",
    "from tensorflow.keras.callbacks import ReduceLROnPlateau, EarlyStopping\n",
    "from sklearn.preprocessing import LabelEncoder"
   ]
  },
  {
   "cell_type": "code",
   "execution_count": 8,
   "id": "70a46bcc-2dea-4a96-a26b-404132bb917a",
   "metadata": {
    "tags": []
   },
   "outputs": [],
   "source": [
    "max = 0\n",
    "mean = []\n",
    "for example in X_train:\n",
    "  length = len(example)\n",
    "  mean.append(len(example))\n",
    "  if length > max:\n",
    "    max = length"
   ]
  },
  {
   "cell_type": "code",
   "execution_count": 9,
   "id": "02f01d13-ab49-4624-b8f9-9b9f14d71295",
   "metadata": {
    "tags": []
   },
   "outputs": [
    {
     "data": {
      "text/plain": [
       "210.52613268608414"
      ]
     },
     "execution_count": 9,
     "metadata": {},
     "output_type": "execute_result"
    }
   ],
   "source": [
    "sum(mean) / len(mean)"
   ]
  },
  {
   "cell_type": "code",
   "execution_count": 10,
   "id": "fcf3771a-2c78-4da0-98e8-52370da80112",
   "metadata": {
    "tags": []
   },
   "outputs": [
    {
     "data": {
      "text/plain": [
       "14389"
      ]
     },
     "execution_count": 10,
     "metadata": {},
     "output_type": "execute_result"
    }
   ],
   "source": [
    "max"
   ]
  },
  {
   "cell_type": "code",
   "execution_count": null,
   "id": "0b9b7608-be41-4a9d-9cc9-9564edcbc4bb",
   "metadata": {},
   "outputs": [],
   "source": []
  },
  {
   "cell_type": "code",
   "execution_count": 41,
   "id": "b51d24e0-3cac-429b-a6da-0f41f3851864",
   "metadata": {
    "tags": []
   },
   "outputs": [
    {
     "name": "stdout",
     "output_type": "stream",
     "text": [
      "Model: \"sequential_2\"\n",
      "_________________________________________________________________\n",
      " Layer (type)                Output Shape              Param #   \n",
      "=================================================================\n",
      " embedding_2 (Embedding)     (None, 50, 32)            3200      \n",
      "                                                                 \n",
      " gru_1 (GRU)                 (None, 100)               40200     \n",
      "                                                                 \n",
      " dense_2 (Dense)             (None, 1)                 101       \n",
      "                                                                 \n",
      "=================================================================\n",
      "Total params: 43,501\n",
      "Trainable params: 43,501\n",
      "Non-trainable params: 0\n",
      "_________________________________________________________________\n",
      "None\n",
      "Epoch 1/10\n",
      "1159/1159 [==============================] - 76s 63ms/step - loss: 0.6059 - accuracy: 0.7068 - val_loss: 0.6038 - val_accuracy: 0.7086\n",
      "Epoch 2/10\n",
      "1159/1159 [==============================] - 72s 62ms/step - loss: 0.4796 - accuracy: 0.7699 - val_loss: 0.4487 - val_accuracy: 0.7841\n",
      "Epoch 3/10\n",
      "1159/1159 [==============================] - 73s 63ms/step - loss: 0.4473 - accuracy: 0.7876 - val_loss: 0.4482 - val_accuracy: 0.7841\n",
      "Epoch 4/10\n",
      "1159/1159 [==============================] - 73s 63ms/step - loss: 0.4444 - accuracy: 0.7886 - val_loss: 0.4445 - val_accuracy: 0.7850\n",
      "Epoch 5/10\n",
      "1159/1159 [==============================] - 73s 63ms/step - loss: 0.4423 - accuracy: 0.7905 - val_loss: 0.4438 - val_accuracy: 0.7868\n",
      "Epoch 6/10\n",
      "1159/1159 [==============================] - 73s 63ms/step - loss: 0.4404 - accuracy: 0.7919 - val_loss: 0.4438 - val_accuracy: 0.7867\n",
      "Epoch 7/10\n",
      "1159/1159 [==============================] - 73s 63ms/step - loss: 0.4384 - accuracy: 0.7925 - val_loss: 0.4446 - val_accuracy: 0.7874\n",
      "Epoch 8/10\n",
      "1159/1159 [==============================] - 79s 68ms/step - loss: 0.4375 - accuracy: 0.7930 - val_loss: 0.4402 - val_accuracy: 0.7885\n",
      "Epoch 9/10\n",
      "1159/1159 [==============================] - 76s 65ms/step - loss: 0.4355 - accuracy: 0.7943 - val_loss: 0.4397 - val_accuracy: 0.7888\n",
      "Epoch 10/10\n",
      "1159/1159 [==============================] - 76s 66ms/step - loss: 0.4343 - accuracy: 0.7947 - val_loss: 0.4410 - val_accuracy: 0.7890\n",
      "773/773 [==============================] - 9s 11ms/step - loss: 0.4410 - accuracy: 0.7890\n",
      "Test loss: 0.4409821331501007\n",
      "Test accuracy: 0.7889562845230103\n"
     ]
    }
   ],
   "source": [
    "import numpy as np\n",
    "from keras.preprocessing.text import Tokenizer\n",
    "from keras.preprocessing import sequence\n",
    "from keras.layers import Embedding, Dropout, GRUV2\n",
    "from gensim.models import KeyedVectors\n",
    "from keras.models import Sequential\n",
    "from keras.layers import Embedding,  Dense\n",
    "from tensorflow.keras.preprocessing.sequence import pad_sequences\n",
    "\n",
    "# definir tamaño máximo del vocabulario\n",
    "\n",
    "vocab_size = 100\n",
    "\n",
    "# cargar conjunto de datos\n",
    "# y dividirlo en conjuntos de entrenamiento y prueba\n",
    "\n",
    "\n",
    "train_reviews =X_train # lista de reseñas \n",
    "train_sentiments =  y_train # lista de etiquetas de sentimiento\n",
    "test_reviews = X_test # lista de reseñas \n",
    "test_sentiments = y_test # lista de etiquetas de sentimiento\n",
    "\n",
    "\n",
    "# tokenizar el conjunto de datos\n",
    "tokenizer = Tokenizer(num_words=vocab_size)\n",
    "tokenizer.fit_on_texts(train_reviews)\n",
    "\n",
    "train_sequences = tokenizer.texts_to_sequences(train_reviews)\n",
    "test_sequences = tokenizer.texts_to_sequences(test_reviews)\n",
    "\n",
    "# ajustar la longitud de las secuencias\n",
    "max_length = 50\n",
    "train_sequences = pad_sequences(train_sequences, maxlen=max_length, padding='post')\n",
    "test_sequences = pad_sequences(test_sequences, maxlen=max_length, padding='post')\n",
    "\n",
    "# definir la arquitectura de la Red GRU\n",
    "embedding_dim = 32\n",
    "model = Sequential()\n",
    "model.add(Embedding(vocab_size, embedding_dim, input_length=max_length))\n",
    "model.add(GRUV2(100, dropout=0.2, recurrent_dropout=0.2))\n",
    "model.add(Dense(1, activation='sigmoid'))\n",
    "\n",
    "\n",
    "print(model.summary())\n",
    "\n",
    "model.compile(optimizer='adam', loss='binary_crossentropy', metrics=['accuracy'])\n",
    "\n",
    "# entrenar el modelo\n",
    "H=model.fit(train_sequences, train_sentiments, validation_data=(test_sequences, test_sentiments), epochs=10, batch_size=64)\n",
    "\n",
    "# evaluar el modelo\n",
    "loss, accuracy = model.evaluate(test_sequences, test_sentiments)\n",
    "print('Test loss:', loss)\n",
    "print('Test accuracy:', accuracy)"
   ]
  },
  {
   "cell_type": "code",
   "execution_count": null,
   "id": "f5a1841f-b505-40d3-81cf-f8cc51460bb5",
   "metadata": {},
   "outputs": [],
   "source": []
  },
  {
   "cell_type": "code",
   "execution_count": 54,
   "id": "6f6bc4b9-0363-4e42-9ce9-2a9dfa367100",
   "metadata": {},
   "outputs": [
    {
     "name": "stdout",
     "output_type": "stream",
     "text": [
      "[INFO]: Evaluando red neuronal...\n"
     ]
    },
    {
     "data": {
      "text/plain": [
       "<matplotlib.legend.Legend at 0x25b67001f40>"
      ]
     },
     "execution_count": 54,
     "metadata": {},
     "output_type": "execute_result"
    },
    {
     "data": {
      "image/png": "[encoded data removed]",
      "text/plain": [
       "<Figure size 640x480 with 1 Axes>"
      ]
     },
     "metadata": {},
     "output_type": "display_data"
    }
   ],
   "source": [
    "print(\"[INFO]: Evaluando red neuronal...\")\n",
    "\n",
    "    \n",
    "# Muestro gráfica de accuracy y losses\n",
    "plt.style.use(\"ggplot\")\n",
    "plt.figure()\n",
    "\n",
    "plt.plot(np.arange(0, 10), H.history[\"loss\"], label=\"train_loss\")\n",
    "plt.plot(np.arange(0, 10), H.history[\"val_loss\"], label=\"val_loss\")\n",
    "plt.plot(np.arange(0, 10), H.history[\"accuracy\"], label=\"train_Accuracy\")\n",
    "plt.plot(np.arange(0, 10), H.history[\"val_accuracy\"], label=\"val_loss\")\n",
    " \n",
    " \n",
    "plt.title(\"Training-val Loss \")\n",
    "plt.xlabel(\"Epoch #\")\n",
    "plt.ylabel(\"Loss\")\n",
    "plt.legend()"
   ]
  },
  {
   "cell_type": "markdown",
   "id": "c8877a57-25ec-478d-96ad-efdc7965bf32",
   "metadata": {},
   "source": [
    "PREDECIR UNA REVIEW:"
   ]
  },
  {
   "cell_type": "code",
   "execution_count": 62,
   "id": "07366bd2-81e7-404c-832f-f6c3c8ffecc3",
   "metadata": {
    "tags": []
   },
   "outputs": [
    {
     "name": "stdout",
     "output_type": "stream",
     "text": [
      "1/1 [==============================] - 0s 32ms/step\n",
      "La etiqueta de sentimiento del texto es: 0: Negativo\n"
     ]
    }
   ],
   "source": [
    "# Preprocesar el texto\n",
    "text = \"Beware of tech support and bad or missing files I got the new TurboTax program as a download and it came over easy. I had the 2021 program and it was great. This time I tried to install it 4 times – I even deleted it, then tried aagain but still no luck. Error message was: (File’_ssc.rabgrp_nommoc_lacol_tib23_rgnerepw) cannot be found times in Data1.cab I went to Intuit site found tech support and chatted with a picture and a name (who knows if they are who they say they are). I gave them details including the error message. They said they would connect me to a technician BUT THERE WOULD BE A $1 CHARGE. LIKE A FOOL I DID IT.The technician said he was a third-party contractor. He had a nice picture and his name was Gupta. He said he had 4 years’ experience. I told him I had 17 years as tech support in a multiple school districts. He said I would need to give him REMOTE ACCESS to my computer – FOR $39.00. I said NO – years ago my colleague got identity stolen that way. There was many 10 – 15-minute pauses while he looked in his instruction book or talked to someone else. He did not seem very experienced except for reading prompts from their book.Then 50 minutes in he asked me to describe the problem. I reminded him that I had done that in detail 50 minutes ago. It was obvious that the error message indicates a corrupt or missing file. This is not something these “Technicians” can handle with their books. I told him what I needed was to send me a clean download that was not corrupted, or a patch. No response. I chatted several more minutes and said I would report this, and said good bye. Later I did get a message to call another number if I still needed help. I will try to go straight to INTUIT and Amazon. I did request several times to return my $1.00 since they were no help. Wish me luck!Sometimes a site or vendor may send out corrupted programs to drum up support money or gain access. If you have had this same problem contact Amazon.\"\n",
    "\n",
    "text_sequence = tokenizer.texts_to_sequences([text])\n",
    "text_sequence = pad_sequences(text_sequence, maxlen=max_length, padding='post')\n",
    "\n",
    "# Hacer la predicción\n",
    "prediction = model.predict(text_sequence)\n",
    "\n",
    "# Obtener la etiqueta de sentimiento correspondiente\n",
    "sentiment_label = \"Positivo\" if prediction[0] >=3 else \"0: Negativo\"\n",
    "print(\"La etiqueta de sentimiento del texto es:\", sentiment_label)"
   ]
  },
  {
   "cell_type": "markdown",
   "id": "2a334d7d-88bc-46ea-9945-b59560e74b0e",
   "metadata": {},
   "source": [
    "Coincide en el acierto con el modelo de regrsion lineal y prersenta un Test accuracy: 0.7889562845230103.Quizas no necesite tantas epocas para entrenar el modelo.podria hacer mas pruebas intentando ajustar los parametros de vocabulario, epocas, bach-size, etc.."
   ]
  },
  {
   "cell_type": "code",
   "execution_count": null,
   "id": "abf46b1d-f768-4081-9381-aeecae0bcce7",
   "metadata": {},
   "outputs": [],
   "source": []
  }
 ],
 "metadata": {
  "kernelspec": {
   "display_name": "Python 3 (ipykernel)",
   "language": "python",
   "name": "python3"
  },
  "language_info": {
   "codemirror_mode": {
    "name": "ipython",
    "version": 3
   },
   "file_extension": ".py",
   "mimetype": "text/x-python",
   "name": "python",
   "nbconvert_exporter": "python",
   "pygments_lexer": "ipython3",
   "version": "3.9.13"
  }
 },
 "nbformat": 4,
 "nbformat_minor": 5
}
